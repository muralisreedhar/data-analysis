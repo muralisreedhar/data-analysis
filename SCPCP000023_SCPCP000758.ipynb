{
  "cells": [
    {
      "cell_type": "markdown",
      "metadata": {
        "id": "view-in-github",
        "colab_type": "text"
      },
      "source": [
        "<a href=\"https://colab.research.google.com/github/muralisreedhar/data-analysis/blob/main/SCPCP000023_SCPCP000758.ipynb\" target=\"_parent\"><img src=\"https://colab.research.google.com/assets/colab-badge.svg\" alt=\"Open In Colab\"/></a>"
      ]
    },
    {
      "cell_type": "code",
      "execution_count": null,
      "id": "24ace10b",
      "metadata": {
        "id": "24ace10b"
      },
      "outputs": [],
      "source": [
        "!pip install scanpy"
      ]
    },
    {
      "cell_type": "code",
      "source": [
        "!pip install gseapy"
      ],
      "metadata": {
        "id": "ZsSDhAgmkuBa"
      },
      "id": "ZsSDhAgmkuBa",
      "execution_count": null,
      "outputs": []
    },
    {
      "cell_type": "code",
      "source": [
        "!pip install infercnvpy"
      ],
      "metadata": {
        "id": "H_jXHcI81kx-"
      },
      "id": "H_jXHcI81kx-",
      "execution_count": null,
      "outputs": []
    },
    {
      "cell_type": "code",
      "execution_count": null,
      "id": "eceaf51e",
      "metadata": {
        "id": "eceaf51e"
      },
      "outputs": [],
      "source": [
        "import csv\n",
        "import gzip\n",
        "import os\n",
        "import scanpy as sc\n",
        "import pandas as pd\n",
        "import matplotlib.pyplot as plt\n",
        "import seaborn as sns\n",
        "import numpy as np\n",
        "from sklearn.model_selection import train_test_split, cross_val_score\n",
        "from sklearn.ensemble import RandomForestClassifier\n",
        "from sklearn.svm import SVC\n",
        "# For GSEA, you might use gseapy\n",
        "import gseapy\n",
        "import infercnvpy as cnv"
      ]
    },
    {
      "cell_type": "code",
      "source": [
        "from google.colab import drive\n",
        "drive.mount('/content/drive')"
      ],
      "metadata": {
        "id": "InhMGI-TcTv1"
      },
      "id": "InhMGI-TcTv1",
      "execution_count": null,
      "outputs": []
    },
    {
      "cell_type": "code",
      "source": [
        "adata = sc.read_h5ad('/content/drive/MyDrive/ALSF/SCPCP000023/SCPCS000758/SCPCL001120_processed_rna.h5ad')"
      ],
      "metadata": {
        "id": "nE5zJ66jTL6a"
      },
      "id": "nE5zJ66jTL6a",
      "execution_count": null,
      "outputs": []
    },
    {
      "cell_type": "code",
      "source": [
        "adata"
      ],
      "metadata": {
        "id": "pbMhAvk6dqSy"
      },
      "id": "pbMhAvk6dqSy",
      "execution_count": null,
      "outputs": []
    },
    {
      "cell_type": "markdown",
      "source": [
        "# Step 1: Initial Review and Preliminary Assessment"
      ],
      "metadata": {
        "id": "ke3GzukfzQqA"
      },
      "id": "ke3GzukfzQqA"
    },
    {
      "cell_type": "code",
      "source": [
        "# Review existing clusters and annotations\n",
        "# Visualize UMAP colored by existing annotations (e.g., consensus_celltype_annotation)\n",
        "print(\"Step 1.1: Visualizing existing clusters and annotations\")\n",
        "sc.pl.umap(adata, color=['cluster', 'cellassign_celltype_annotation'], legend_loc='on data', title=['Clusters', 'Cellassign Celltype Annotation'])"
      ],
      "metadata": {
        "id": "F_UG2S-Un8aQ"
      },
      "id": "F_UG2S-Un8aQ",
      "execution_count": null,
      "outputs": []
    },
    {
      "cell_type": "code",
      "source": [
        "# Perform differential gene expression analysis for initial clusters\n",
        "# This uses the 'cluster' column in adata.obs\n",
        "print(\"Step 1.2: Performing differential gene expression for initial clusters\")\n",
        "sc.tl.rank_genes_groups(adata, 'cluster', method='wilcoxon')\n",
        "sc.pl.rank_genes_groups(adata, n_genes=25, sharey=False, title=\"Top 25 DEGs per Cluster\")"
      ],
      "metadata": {
        "id": "kUw0LHqUy1db"
      },
      "id": "kUw0LHqUy1db",
      "execution_count": null,
      "outputs": []
    },
    {
      "cell_type": "code",
      "source": [
        "# You can access the DGE results as a pandas DataFrame:\n",
        "dge_results = pd.DataFrame(adata.uns['rank_genes_groups']['names'])\n",
        "print(dge_results.head())"
      ],
      "metadata": {
        "id": "i5Rji5tKzagh"
      },
      "id": "i5Rji5tKzagh",
      "execution_count": null,
      "outputs": []
    },
    {
      "cell_type": "code",
      "source": [
        "# Option 2: If adata.var_names are Ensembl IDs and gene symbols are in adata.var['gene_symbol']\n",
        "osteosarcoma_marker_symbols = ['COL1A1', 'CXCL12', 'MEPE', 'COL2A1']\n",
        "# Get the var_names (e.g. Ensembl IDs) for these symbols\n",
        "# Create a mapping from symbol to var_name if needed, or directly use boolean indexing\n",
        "# This assumes 'gene_symbol' is a column in adata.var\n",
        "osteosarcoma_markers_present = adata.var_names[adata.var['gene_symbol'].isin(osteosarcoma_marker_symbols)].tolist()"
      ],
      "metadata": {
        "id": "HQhslu1p0EM_"
      },
      "id": "HQhslu1p0EM_",
      "execution_count": null,
      "outputs": []
    },
    {
      "cell_type": "code",
      "source": [
        "# Assess expression of general osteosarcoma markers\n",
        "if osteosarcoma_markers_present:\n",
        "    print(\"Step 1.3: Assessing expression of general osteosarcoma markers\")\n",
        "    sc.pl.umap(adata, color=osteosarcoma_markers_present, title=[f\"{marker} Expression\" for marker in osteosarcoma_marker_symbols if adata.var_names[adata.var['gene_symbol'] == marker][0] in osteosarcoma_markers_present])\n",
        "    sc.pl.dotplot(adata, osteosarcoma_markers_present, groupby='cluster', title=\"Osteosarcoma Markers Expression by Cluster\")\n",
        "else:\n",
        "    print(\"Step 1.3: None of the specified osteosarcoma markers were found in the data using adata.var['gene_symbol'].\")"
      ],
      "metadata": {
        "id": "O8etMlty0KNy"
      },
      "id": "O8etMlty0KNy",
      "execution_count": null,
      "outputs": []
    },
    {
      "cell_type": "code",
      "source": [
        "# Assess expression of osteoblastic or chondroblastic subtype markers\n",
        "osteoblastic_markers_symbols = ['RUNX2', 'COL3A1']\n",
        "chondroblastic_markers_symbols = ['ACAN', 'COL2A1', 'SOX9']\n",
        "\n",
        "osteoblastic_markers_present = adata.var_names[adata.var['gene_symbol'].isin(osteoblastic_markers_symbols)].tolist()\n",
        "chondroblastic_markers_present = adata.var_names[adata.var['gene_symbol'].isin(chondroblastic_markers_symbols)].tolist()\n",
        "\n",
        "if osteoblastic_markers_present:\n",
        "    print(\"Assessing expression of osteoblastic markers\")\n",
        "    sc.pl.umap(adata, color=osteoblastic_markers_present, title=[f\"{marker} Expression\" for marker in osteoblastic_markers_symbols if adata.var_names[adata.var['gene_symbol'] == marker][0] in osteoblastic_markers_present])\n",
        "    sc.pl.dotplot(adata, osteoblastic_markers_present, groupby='cluster', title=\"Osteoblastic Markers Expression by Cluster\")\n",
        "if chondroblastic_markers_present:\n",
        "    print(\"Assessing expression of chondroblastic markers\")\n",
        "    sc.pl.umap(adata, color=chondroblastic_markers_present, title=[f\"{marker} Expression\" for marker in chondroblastic_markers_symbols if adata.var_names[adata.var['gene_symbol'] == marker][0] in chondroblastic_markers_present])\n",
        "    sc.pl.dotplot(adata, chondroblastic_markers_present, groupby='cluster', title=\"Chondroblastic Markers Expression by Cluster\")"
      ],
      "metadata": {
        "id": "gmGLEw--5Wx1"
      },
      "id": "gmGLEw--5Wx1",
      "execution_count": null,
      "outputs": []
    },
    {
      "cell_type": "markdown",
      "source": [],
      "metadata": {
        "id": "oGmhmPp56zoO"
      },
      "id": "oGmhmPp56zoO"
    },
    {
      "cell_type": "markdown",
      "source": [
        "# Step 2: Prepare Gene Order File for InferCNV"
      ],
      "metadata": {
        "id": "dBGu9aD4680v"
      },
      "id": "dBGu9aD4680v"
    },
    {
      "cell_type": "code",
      "source": [
        "external_gene_order_df = pd.read_csv('/content/drive/MyDrive/ALSF/gencode_v19_gene_pos.txt', sep='\\t', header=None, names=['gene_symbol_external', 'chromosome', 'start', 'end'])"
      ],
      "metadata": {
        "id": "MqliYhaF3-Gj"
      },
      "id": "MqliYhaF3-Gj",
      "execution_count": null,
      "outputs": []
    },
    {
      "cell_type": "code",
      "source": [
        "external_gene_order_df.head()"
      ],
      "metadata": {
        "id": "66bxQcIJ5R_B"
      },
      "id": "66bxQcIJ5R_B",
      "execution_count": null,
      "outputs": []
    },
    {
      "cell_type": "code",
      "source": [
        "gene_map_df = adata.var[['gene_symbol']].copy()"
      ],
      "metadata": {
        "id": "mrBgIMti5Z6j"
      },
      "id": "mrBgIMti5Z6j",
      "execution_count": null,
      "outputs": []
    },
    {
      "cell_type": "code",
      "source": [
        "gene_map_df = gene_map_df.reset_index()\n",
        "gene_map_df.rename(columns={gene_map_df.columns[0]: 'Ensembl_ID'}, inplace=True)\n",
        "gene_map_df.head()"
      ],
      "metadata": {
        "id": "sZ2U5Wjd5qdv"
      },
      "id": "sZ2U5Wjd5qdv",
      "execution_count": null,
      "outputs": []
    },
    {
      "cell_type": "code",
      "source": [
        "# Clean the map: drop rows with missing gene symbols, drop duplicate symbols (keeping first Ensembl ID)\n",
        "gene_map_df.dropna(subset=['gene_symbol'], inplace=True)\n",
        "gene_map_df.drop_duplicates(subset=['gene_symbol'], keep='first', inplace=True) # Important for a clean merge"
      ],
      "metadata": {
        "id": "WlN5DNpr567I"
      },
      "id": "WlN5DNpr567I",
      "execution_count": null,
      "outputs": []
    },
    {
      "cell_type": "code",
      "source": [
        "gene_map_df.shape"
      ],
      "metadata": {
        "id": "04PUZyxP585x"
      },
      "id": "04PUZyxP585x",
      "execution_count": null,
      "outputs": []
    },
    {
      "cell_type": "code",
      "source": [
        "# Merge based on gene symbols from the external file and our map\n",
        "merged_gene_order_df = pd.merge(\n",
        "    external_gene_order_df,\n",
        "    gene_map_df,\n",
        "    left_on='gene_symbol_external',\n",
        "    right_on='gene_symbol',\n",
        "    how='inner' # Keep only genes present in both\n",
        ")\n",
        "print(f\"Merged gene order data. Shape: {merged_gene_order_df.shape}\")\n",
        "print(merged_gene_order_df.head())"
      ],
      "metadata": {
        "id": "MlLzpGry6I45"
      },
      "id": "MlLzpGry6I45",
      "execution_count": null,
      "outputs": []
    },
    {
      "cell_type": "code",
      "source": [
        "final_gene_order_for_infercnpy_df = merged_gene_order_df[['Ensembl_ID', 'chromosome', 'start', 'end']].copy()\n",
        "# Ensure Ensembl_IDs are unique (should be if gene_map_df was correctly prepared and Ensembl_IDs in adata are unique)\n",
        "final_gene_order_for_infercnpy_df.drop_duplicates(subset=['Ensembl_ID'], keep='first', inplace=True)"
      ],
      "metadata": {
        "id": "6bdR23Tk6UV2"
      },
      "id": "6bdR23Tk6UV2",
      "execution_count": null,
      "outputs": []
    },
    {
      "cell_type": "code",
      "source": [
        "# Sort by chromosome and start position (critical for infercnpy)\n",
        "# Handle chromosome strings like 'chrX', 'chrY', 'chrM' by converting 'chr' prefix to numerical for sorting\n",
        "final_gene_order_for_infercnpy_df['chromosome_numerical'] = final_gene_order_for_infercnpy_df['chromosome'].astype(str).str.replace('chr', '')\n",
        "# Replace X, Y, M with high numbers for sorting after numerical chromosomes\n",
        "replace_map = {'X': 100, 'Y': 101, 'M': 102, 'MT': 102} # MT for mitochondrial\n",
        "for k, v in replace_map.items():\n",
        "    final_gene_order_for_infercnpy_df['chromosome_numerical'] = final_gene_order_for_infercnpy_df['chromosome_numerical'].replace(k, str(v))"
      ],
      "metadata": {
        "id": "AO9lS_kw6cwO"
      },
      "id": "AO9lS_kw6cwO",
      "execution_count": null,
      "outputs": []
    },
    {
      "cell_type": "code",
      "source": [
        "# Attempt to convert to numeric, coercing errors for any non-standard chromosome names\n",
        "final_gene_order_for_infercnpy_df['chromosome_numerical'] = pd.to_numeric(final_gene_order_for_infercnpy_df['chromosome_numerical'], errors='coerce')\n",
        "final_gene_order_for_infercnpy_df.dropna(subset=['chromosome_numerical'], inplace=True) # Drop if not convertible\n",
        "\n",
        "final_gene_order_for_infercnpy_df = final_gene_order_for_infercnpy_df.sort_values(\n",
        "    by=['chromosome_numerical', 'start']\n",
        ").drop(columns=['chromosome_numerical'])"
      ],
      "metadata": {
        "id": "SAjrHsdX6pWt"
      },
      "id": "SAjrHsdX6pWt",
      "execution_count": null,
      "outputs": []
    },
    {
      "cell_type": "code",
      "source": [
        "# Save to a temporary file (tab-separated, no header, specific columns)\n",
        "processed_gene_order_file_path = \"/content/drive/MyDrive/ALSF/processed_gene_order_for_infercnpy.txt\"\n",
        "final_gene_order_for_infercnpy_df[['Ensembl_ID', 'chromosome', 'start', 'end']].to_csv(\n",
        "    processed_gene_order_file_path, sep='\\t', index=False, header=False\n",
        ")\n",
        "print(f\"Processed gene order file saved to: {processed_gene_order_file_path}. Shape: {final_gene_order_for_infercnpy_df.shape}\")\n",
        "print(final_gene_order_for_infercnpy_df.head())"
      ],
      "metadata": {
        "id": "gdAfUIJo6vo7"
      },
      "id": "gdAfUIJo6vo7",
      "execution_count": null,
      "outputs": []
    },
    {
      "cell_type": "markdown",
      "source": [
        "# Step 3: Define Reference Cell Types"
      ],
      "metadata": {
        "id": "jHjDm5xQ7-_c"
      },
      "id": "jHjDm5xQ7-_c"
    },
    {
      "cell_type": "code",
      "source": [
        "reference_cell_types = adata.obs['cellassign_celltype_annotation'].unique()"
      ],
      "metadata": {
        "id": "2iNx0TRP7Ew0"
      },
      "id": "2iNx0TRP7Ew0",
      "execution_count": null,
      "outputs": []
    },
    {
      "cell_type": "code",
      "source": [
        "adata.obs['cnv_ref_group'] = adata.obs['cellassign_celltype_annotation'].astype(str)\n",
        "available_ref_types = [ct for ct in reference_cell_types if ct in adata.obs['cnv_ref_group'].unique()]\n",
        "print(f\"Using the following cell types as reference: {available_ref_types}\")"
      ],
      "metadata": {
        "id": "D2F-589D7mjB"
      },
      "id": "D2F-589D7mjB",
      "execution_count": null,
      "outputs": []
    },
    {
      "cell_type": "markdown",
      "source": [
        "# Step 4: Run Infercnpy"
      ],
      "metadata": {
        "id": "jFKv35Ca8Zv6"
      },
      "id": "jFKv35Ca8Zv6"
    },
    {
      "cell_type": "code",
      "source": [
        "# Subset AnnData to genes that are present in our final_gene_order_for_infercnpy_df\n",
        "# These are the genes for which we have genomic coordinates.\n",
        "common_genes_with_coords = final_gene_order_for_infercnpy_df['Ensembl_ID'].unique().tolist()\n",
        "common_genes_in_adata = [gene for gene in adata.var_names if gene in common_genes_with_coords]"
      ],
      "metadata": {
        "id": "53Aya6P-8UnA"
      },
      "id": "53Aya6P-8UnA",
      "execution_count": null,
      "outputs": []
    },
    {
      "cell_type": "code",
      "source": [
        "adata_subset_for_cnv = adata[:, common_genes_in_adata].copy()\n",
        "print(f\"adata_subset_for_cnv created with {adata_subset_for_cnv.n_vars} genes and {adata_subset_for_cnv.n_obs} cells.\")"
      ],
      "metadata": {
        "id": "jImBkndL9XFB"
      },
      "id": "jImBkndL9XFB",
      "execution_count": null,
      "outputs": []
    },
    {
      "cell_type": "code",
      "source": [
        "adata_subset_for_cnv.var_names"
      ],
      "metadata": {
        "id": "MMkYUL75BZD_"
      },
      "id": "MMkYUL75BZD_",
      "execution_count": null,
      "outputs": []
    },
    {
      "cell_type": "code",
      "source": [
        "# Add chromosome, start, and end information to adata_subset_for_cnv.var\n",
        "# The gene order DataFrame needs to be indexed by 'Ensembl_ID' to align with adata_subset_for_cnv.var_names\n",
        "gene_order_info_to_add = final_gene_order_for_infercnpy_df.set_index('Ensembl_ID')"
      ],
      "metadata": {
        "id": "1Ahjfi2NAwOG"
      },
      "id": "1Ahjfi2NAwOG",
      "execution_count": null,
      "outputs": []
    },
    {
      "cell_type": "code",
      "source": [
        "# Keep only the coordinate columns needed, ensure they are present\n",
        "coordinate_cols = ['chromosome', 'start', 'end']\n",
        "for col in coordinate_cols:\n",
        "    if col not in gene_order_info_to_add.columns:\n",
        "        raise ValueError(f\"Column '{col}' is missing from the gene order information DataFrame.\")"
      ],
      "metadata": {
        "id": "EX1B660CA-NL"
      },
      "id": "EX1B660CA-NL",
      "execution_count": null,
      "outputs": []
    },
    {
      "cell_type": "code",
      "source": [
        "# Join the coordinate information. This aligns based on the index (Ensembl_ID).\n",
        "adata_subset_for_cnv.var = adata_subset_for_cnv.var.join(gene_order_info_to_add[coordinate_cols])"
      ],
      "metadata": {
        "id": "Mr19nkOTBnTQ"
      },
      "id": "Mr19nkOTBnTQ",
      "execution_count": null,
      "outputs": []
    },
    {
      "cell_type": "code",
      "source": [
        "# Verify that the columns were added and populated\n",
        "print(\"Verifying .var columns after adding coordinates:\")\n",
        "print(adata_subset_for_cnv.var.head())\n",
        "if adata_subset_for_cnv.var['chromosome'].isnull().any() or \\\n",
        "   adata_subset_for_cnv.var['start'].isnull().any() or \\\n",
        "   adata_subset_for_cnv.var['end'].isnull().any():\n",
        "    print(\"Warning: Some genes in adata_subset_for_cnv.var have missing chromosome/start/end information after join.\")\n",
        "    print(adata_subset_for_cnv.var[adata_subset_for_cnv.var['chromosome'].isnull()].head())\n",
        "    # Consider dropping these genes or investigating the merge if this happens unexpectedly\n",
        "    # adata_subset_for_cnv = adata_subset_for_cnv[:, adata_subset_for_cnv.var['chromosome'].notnull()].copy()\n",
        "    # print(f\"Subsetted further to {adata_subset_for_cnv.n_vars} genes with complete coordinate info.\")\n"
      ],
      "metadata": {
        "id": "uTHz556yBABN"
      },
      "id": "uTHz556yBABN",
      "execution_count": null,
      "outputs": []
    },
    {
      "cell_type": "code",
      "source": [
        "# Ensure the cnv_ref_group column is also in the subset if not already copied over by adata[:, common_genes_in_adata].copy()\n",
        "# .copy() on a view should bring .obs along.\n",
        "if 'cnv_ref_group' not in adata_subset_for_cnv.obs.columns and 'cnv_ref_group' in adata.obs.columns:\n",
        "    adata_subset_for_cnv.obs['cnv_ref_group'] = adata.obs.loc[adata_subset_for_cnv.obs_names, 'cnv_ref_group']\n",
        "\n",
        "available_ref_types = [ct for ct in reference_cell_types if ct in adata_subset_for_cnv.obs['cnv_ref_group'].unique()]\n",
        "print(f\"Using the following cell types as reference: {available_ref_types}\")"
      ],
      "metadata": {
        "id": "8uggj2eMCUcX"
      },
      "id": "8uggj2eMCUcX",
      "execution_count": null,
      "outputs": []
    },
    {
      "cell_type": "code",
      "source": [
        "cnv.tl.infercnv(\n",
        "        adata_subset_for_cnv,\n",
        "        reference_key='cnv_ref_group',\n",
        "        reference_cat=available_ref_types,\n",
        "        # reference=None, # Default\n",
        "        lfc_clip=3, # Default, can be adjusted\n",
        "        window_size=100, # Default, can be adjusted\n",
        "        step=10, # Default, can be adjusted\n",
        "        dynamic_threshold=1.5, # Default, can be adjusted\n",
        "        exclude_chromosomes=('chrX', 'chrY', 'chrM', 'chrMT'), # Default, adjust if needed e.g. ('chrX', 'chrY', 'chrM', 'chrMT')\n",
        "        # chunksize=5000, # Default\n",
        "        # n_jobs=None, # Default (all cores)\n",
        "        inplace=True, # Default\n",
        "        # layer=None, # Default (uses .X)\n",
        "        key_added='cnv', # Default, stores in .obsm[f'X_{key_added}'] and .uns[key_added]\n",
        "        # calculate_gene_values=False # Default\n",
        ")"
      ],
      "metadata": {
        "id": "Ifg2kW39CZ92"
      },
      "id": "Ifg2kW39CZ92",
      "execution_count": null,
      "outputs": []
    },
    {
      "cell_type": "code",
      "source": [
        "# Transfer results back to the main adata object\n",
        "cnv_key_obsm = f\"X_{'cnv'}\" # Default key_added is 'cnv'\n",
        "cnv_key_uns = 'cnv'"
      ],
      "metadata": {
        "id": "6ogK33JSC-N5"
      },
      "id": "6ogK33JSC-N5",
      "execution_count": null,
      "outputs": []
    },
    {
      "cell_type": "code",
      "source": [
        "if cnv_key_obsm in adata_subset_for_cnv.obsm:\n",
        "  cnv_data = adata_subset_for_cnv.obsm[cnv_key_obsm]\n",
        "  print(f\"Shape of infercnv output in .obsm['{cnv_key_obsm}']: {cnv_data.shape}\")"
      ],
      "metadata": {
        "id": "XLkXRvOdEuBH"
      },
      "id": "XLkXRvOdEuBH",
      "execution_count": null,
      "outputs": []
    },
    {
      "cell_type": "code",
      "source": [
        "# The expected shape should be (number of cells, number of genes in adata_subset_for_cnv)\n",
        "expected_shape = (adata_subset_for_cnv.n_obs, adata_subset_for_cnv.n_vars)\n",
        "print(f\"Expected shape based on adata_subset_for_cnv: {expected_shape}\")"
      ],
      "metadata": {
        "id": "q9HISr5IFUIF"
      },
      "id": "q9HISr5IFUIF",
      "execution_count": null,
      "outputs": []
    },
    {
      "cell_type": "code",
      "source": [
        "if cnv_data.shape == expected_shape:\n",
        "    print(\"Infercnv output shape matches expected shape. Proceeding with DataFrame creation.\")\n",
        "else:\n",
        "    print(\"Warning: Infercnv output shape does not match expected shape.\")"
      ],
      "metadata": {
        "id": "lSqpEOntFZ1T"
      },
      "id": "lSqpEOntFZ1T",
      "execution_count": null,
      "outputs": []
    },
    {
      "cell_type": "code",
      "source": [
        "cnv_output_matrix = adata_subset_for_cnv.obsm[cnv_key_obsm]\n",
        "print(f\"Shape of infercnv output matrix (adata_subset_for_cnv.obsm['{cnv_key_obsm}']): {cnv_output_matrix.shape}\")\n",
        "print(f\"Number of genes in adata_subset_for_cnv (used if shapes matched): {adata_subset_for_cnv.n_vars}\")\n",
        "\n",
        "n_output_features = cnv_output_matrix.shape[1]"
      ],
      "metadata": {
        "id": "Ab_D0gFFG3VY"
      },
      "id": "Ab_D0gFFG3VY",
      "execution_count": null,
      "outputs": []
    },
    {
      "cell_type": "code",
      "source": [
        "print(f\"inferCNVpy output has {n_output_features} features, matching the number of genes in the subset analysis.\")\n",
        "print(\"Assuming these features correspond to per-gene CNV values for the analyzed subset.\")\n",
        ""
      ],
      "metadata": {
        "id": "Hnukk6QxIR_4"
      },
      "id": "Hnukk6QxIR_4",
      "execution_count": null,
      "outputs": []
    },
    {
      "cell_type": "code",
      "source": [
        "# Convert to dense if sparse\n",
        "if hasattr(cnv_output_matrix, 'toarray'):\n",
        "    cnv_output_dense = cnv_output_matrix.toarray()\n",
        "else:\n",
        "   cnv_output_dense = cnv_output_matrix"
      ],
      "metadata": {
        "id": "qy5eS0S0HM99"
      },
      "id": "qy5eS0S0HM99",
      "execution_count": null,
      "outputs": []
    },
    {
      "cell_type": "code",
      "source": [
        "window_names = [f'cnv_window_{i+1}' for i in range(n_output_features)]\n",
        "cnv_window_matrix_df = pd.DataFrame(cnv_output_dense,\n",
        "                                    index=adata_subset_for_cnv.obs_names,\n",
        "                                    columns=window_names)"
      ],
      "metadata": {
        "id": "Xid6gsznIny1"
      },
      "id": "Xid6gsznIny1",
      "execution_count": null,
      "outputs": []
    },
    {
      "cell_type": "code",
      "source": [
        "adata.obsm['X_cnv_windows'] = pd.DataFrame(0.0,\n",
        "                                           index=adata.obs_names,\n",
        "                                           columns=window_names)"
      ],
      "metadata": {
        "id": "wifhaX4KJowp"
      },
      "id": "wifhaX4KJowp",
      "execution_count": null,
      "outputs": []
    },
    {
      "cell_type": "code",
      "source": [
        "adata.obsm['X_cnv_windows'].update(cnv_window_matrix_df)\n",
        "adata.obsm['X_cnv_windows'] = adata.obsm['X_cnv_windows'].values\n",
        "print(f\"Stored CNV window values in adata.obsm['X_cnv_windows']\")"
      ],
      "metadata": {
        "id": "DII6Lf5PJsPH"
      },
      "id": "DII6Lf5PJsPH",
      "execution_count": null,
      "outputs": []
    },
    {
      "cell_type": "code",
      "source": [
        "if cnv_key_uns in adata_subset_for_cnv.uns:\n",
        "            adata.uns[cnv_key_uns] = adata_subset_for_cnv.uns[cnv_key_uns]\n",
        "            print(f\"CNV metadata transferred to adata.uns['{cnv_key_uns}']\")\n",
        "else:\n",
        "            print(f\"Warning: '{cnv_key_uns}' key not found in adata_subset_for_cnv.uns. Plotting might be affected.\")"
      ],
      "metadata": {
        "id": "2nRfcNHYJ1NT"
      },
      "id": "2nRfcNHYJ1NT",
      "execution_count": null,
      "outputs": []
    },
    {
      "cell_type": "markdown",
      "source": [
        "# Step 5: Visualize the results"
      ],
      "metadata": {
        "id": "dwVRNyofKEDs"
      },
      "id": "dwVRNyofKEDs"
    },
    {
      "cell_type": "code",
      "source": [
        "plot_adata = adata_subset_for_cnv\n",
        "cnv_storage_key = 'cnv' # Default key_added"
      ],
      "metadata": {
        "id": "RTt_W8bYKf3g"
      },
      "id": "RTt_W8bYKf3g",
      "execution_count": null,
      "outputs": []
    },
    {
      "cell_type": "code",
      "source": [
        "# Check if the necessary data is present\n",
        "obsm_key_to_check = f\"X_{cnv_storage_key}\"\n",
        "if obsm_key_to_check not in plot_adata.obsm or cnv_storage_key not in plot_adata.uns:\n",
        "    print(f\"Skipping CNV plotting: Necessary data not found in plot_adata.\")\n",
        "    print(f\"  Expected obsm key: '{obsm_key_to_check}' (Present: {obsm_key_to_check in plot_adata.obsm})\")\n",
        "    print(f\"  Expected uns key: '{cnv_storage_key}' (Present: {cnv_storage_key in plot_adata.uns})\")\n",
        "else:\n",
        "    print(f\"Plotting CNV heatmap using .obsm['{obsm_key_to_check}'] and .uns['{cnv_storage_key}'].\")"
      ],
      "metadata": {
        "id": "zGXdcC_AMUdL"
      },
      "id": "zGXdcC_AMUdL",
      "execution_count": null,
      "outputs": []
    },
    {
      "cell_type": "code",
      "source": [
        "print(f\"Performing Leiden clustering on CNV profiles stored in .obsm['{obsm_key_to_check}']...\")\n",
        "sc.pp.neighbors(plot_adata, use_rep=obsm_key_to_check, key_added='cnv_neighbors') # Use the CNV data for neighbors\n",
        "sc.tl.leiden(plot_adata, neighbors_key='cnv_neighbors', key_added='cnv_leiden_custom')\n",
        "grouping_key = 'cnv_leiden_custom' # Use this new clustering for groupby\n",
        "print(f\"Using newly computed '{grouping_key}' for heatmap grouping.\")"
      ],
      "metadata": {
        "id": "7dtmNCYBMaI8"
      },
      "id": "7dtmNCYBMaI8",
      "execution_count": null,
      "outputs": []
    },
    {
      "cell_type": "code",
      "source": [
        "cnv.pl.chromosome_heatmap(\n",
        "                plot_adata,\n",
        "                groupby=grouping_key,  # e.g., 'cnv_ref_group' or your preferred cell grouping\n",
        "                use_rep=cnv_storage_key,  # This should match 'key_added' from tl.infercnv\n",
        "                cmap='bwr',             # Common colormap for CNVs (blue-white-red)\n",
        "                figsize=(18, 10),       # Adjust as needed\n",
        "                # show=True,            # Default behavior is usually to show\n",
        "                # save=\"cnv_chromosome_heatmap.pdf\" # Uncomment to save\n",
        "            )"
      ],
      "metadata": {
        "id": "Sax4uTUUMsKd"
      },
      "id": "Sax4uTUUMsKd",
      "execution_count": null,
      "outputs": []
    },
    {
      "cell_type": "markdown",
      "source": [
        "# Step 6: Validate and Refine Tumor/Normal Assignments"
      ],
      "metadata": {
        "id": "ZmRT1uPDOObR"
      },
      "id": "ZmRT1uPDOObR"
    },
    {
      "cell_type": "code",
      "source": [
        "cnv_matrix_key = 'X_cnv_windows'\n",
        "cnv_data_for_scoring = adata.obsm[cnv_matrix_key]"
      ],
      "metadata": {
        "id": "Qdpr9OQSQCAa"
      },
      "id": "Qdpr9OQSQCAa",
      "execution_count": null,
      "outputs": []
    },
    {
      "cell_type": "code",
      "source": [
        "# Calculate CNV activity score: sum of squared CNV values\n",
        "adata.obs['cnv_activity_score'] = np.sum(np.square(cnv_data_for_scoring), axis=1)"
      ],
      "metadata": {
        "id": "TNIpocgoQLin"
      },
      "id": "TNIpocgoQLin",
      "execution_count": null,
      "outputs": []
    },
    {
      "cell_type": "code",
      "source": [
        "# Visualize the distribution\n",
        "plt.figure(figsize=(8, 6))\n",
        "sns.histplot(data=adata.obs, x='cnv_activity_score', hue='cnv_ref_group' if 'cnv_ref_group' in adata.obs else None, kde=True, multiple=\"stack\")\n",
        "plt.title('Distribution of CNV Activity Scores')\n",
        "plt.xlabel('CNV Activity Score (sum of squares)')\n",
        "plt.ylabel('Frequency')\n",
        "plt.show()"
      ],
      "metadata": {
        "id": "s7rwy3LxQRPq"
      },
      "id": "s7rwy3LxQRPq",
      "execution_count": null,
      "outputs": []
    },
    {
      "cell_type": "code",
      "source": [
        "reference_scores = adata.obs.loc[adata.obs['cnv_ref_group'].isin(reference_cell_types), 'cnv_activity_score']"
      ],
      "metadata": {
        "id": "Jd7ptxASQdGF"
      },
      "id": "Jd7ptxASQdGF",
      "execution_count": null,
      "outputs": []
    },
    {
      "cell_type": "code",
      "source": [
        "threshold = reference_scores.mean() + 2 * reference_scores.std()"
      ],
      "metadata": {
        "id": "DyFTmDoYQzkg"
      },
      "id": "DyFTmDoYQzkg",
      "execution_count": null,
      "outputs": []
    },
    {
      "cell_type": "code",
      "source": [
        "if 'cnv_ref_group' in adata.obs and reference_cell_types:\n",
        "    is_reference_cell = adata.obs['cnv_ref_group'].isin(reference_cell_types)\n",
        "    adata.obs.loc[is_reference_cell & (adata.obs['cnv_activity_score'] <= threshold), 'cnv_status'] = 'normal_cnv_ref'\n",
        "    adata.obs.loc[is_reference_cell & (adata.obs['cnv_activity_score'] > threshold), 'cnv_status'] = 'tumor_cnv_ref_anomalous' # Suspicious reference"
      ],
      "metadata": {
        "id": "aupTiFpnRH5i"
      },
      "id": "aupTiFpnRH5i",
      "execution_count": null,
      "outputs": []
    },
    {
      "cell_type": "code",
      "source": [
        "adata.obs['cnv_status'] = adata.obs['cnv_status'].astype('category')\n",
        "print(\"Distribution of 'cnv_status':\")\n",
        "print(adata.obs['cnv_status'].value_counts())"
      ],
      "metadata": {
        "id": "CyQio0L4Rqk5"
      },
      "id": "CyQio0L4Rqk5",
      "execution_count": null,
      "outputs": []
    },
    {
      "cell_type": "code",
      "source": [
        "osteosarcoma_marker_symbols = ['COL1A1', 'CXCL12', 'MEPE', 'COL2A1']\n",
        "osteosarcoma_markers_present_in_adata = adata.var_names[adata.var['gene_symbol'].isin(osteosarcoma_marker_symbols)].tolist()"
      ],
      "metadata": {
        "id": "7sB8viuCRwVV"
      },
      "id": "7sB8viuCRwVV",
      "execution_count": null,
      "outputs": []
    },
    {
      "cell_type": "code",
      "source": [
        "osteosarcoma_markers_present_in_adata"
      ],
      "metadata": {
        "id": "3S7kZuD2R40u"
      },
      "id": "3S7kZuD2R40u",
      "execution_count": null,
      "outputs": []
    },
    {
      "cell_type": "code",
      "source": [
        "# To use gene symbols in plots when var_names are Ensembl IDs, create a temporary mapping for var_names_idx\n",
        "    # This ensures dotplot/violin plot shows symbols if adata.var_names are not symbols.\n",
        "    # However, sc.pl.dotplot/violin directly take a list of gene symbols if you pass them to the `var_names` argument\n",
        "    # and your adata.var['gene_symbol'] is correctly set up.\n",
        "    # The `groupby` parameter uses adata.obs.\n",
        "    # sc.pl.dotplot(adata, osteosarcoma_markers_present_in_adata, groupby='cnv_status', title=\"Osteosarcoma Markers by CNV Status\")\n",
        "    # Better: use symbols directly in var_names for plotting if they exist in adata.var['gene_symbol']\n",
        ""
      ],
      "metadata": {
        "id": "9HzXDq9wSPEV"
      },
      "id": "9HzXDq9wSPEV",
      "execution_count": null,
      "outputs": []
    },
    {
      "cell_type": "code",
      "source": [
        "# sc.pl.dotplot(adata, var_names=osteosarcoma_marker_symbols, groupby='cnv_status', title=\"Osteosarcoma Markers by CNV Status\", use_raw=False)\n",
        "# sc.pl.violin(adata, var_names=osteosarcoma_marker_symbols, groupby='cnv_status', rotation=90, use_raw=False)"
      ],
      "metadata": {
        "id": "GF8RvYVqSETu"
      },
      "id": "GF8RvYVqSETu",
      "execution_count": null,
      "outputs": []
    },
    {
      "cell_type": "code",
      "source": [
        "adata"
      ],
      "metadata": {
        "id": "G_jcpcdXSrWi"
      },
      "id": "G_jcpcdXSrWi",
      "execution_count": null,
      "outputs": []
    },
    {
      "cell_type": "code",
      "source": [
        "adata.obs.cnv_status"
      ],
      "metadata": {
        "id": "DGLBNJhwTELm"
      },
      "id": "DGLBNJhwTELm",
      "execution_count": null,
      "outputs": []
    },
    {
      "cell_type": "code",
      "source": [
        "if len(adata.obs['cnv_status'].cat.categories) >= 2 and \\\n",
        "   ('tumor_cnv' in adata.obs['cnv_status'].value_counts() and adata.obs['cnv_status'].value_counts()['tumor_cnv'] > 1) and \\\n",
        "   ('normal_cnv' in adata.obs['cnv_status'].value_counts() and adata.obs['cnv_status'].value_counts()['normal_cnv'] > 1) : # Need at least 2 cells in each group for robust DGE\n",
        "    print(\"Step 3.3: Performing DGE between CNV-defined tumor and normal cells\")"
      ],
      "metadata": {
        "id": "t1eW7T7cTaNq"
      },
      "id": "t1eW7T7cTaNq",
      "execution_count": null,
      "outputs": []
    },
    {
      "cell_type": "code",
      "source": [
        "sc.tl.rank_genes_groups(adata, groupby='cnv_status', groups=['tumor_cnv_ref_anomalous'], reference='normal_cnv_ref', method='wilcoxon', key_added='rank_genes_tumor_vs_normal_cnv', use_raw=False)\n",
        "sc.pl.rank_genes_groups(adata, n_genes=25, sharey=False, key='rank_genes_tumor_vs_normal_cnv', title=\"Top 25 DEGs (Tumor CNV vs Normal CNV)\")"
      ],
      "metadata": {
        "id": "rOER-XDmS8dl"
      },
      "id": "rOER-XDmS8dl",
      "execution_count": null,
      "outputs": []
    },
    {
      "cell_type": "code",
      "source": [
        "sc.pl.umap(adata, color=['cnv_status', 'cnv_activity_score', 'cnv_ref_group'], title=['UMAP by CNV Status', 'UMAP by CNV Activity Score', 'UMAP by CNV Ref Group'], cmap='viridis')"
      ],
      "metadata": {
        "id": "YCY40PG-T9cJ"
      },
      "id": "YCY40PG-T9cJ",
      "execution_count": null,
      "outputs": []
    },
    {
      "cell_type": "code",
      "source": [
        "print(\"Step 4.1: Subsetting normal cells\")\n",
        "adata_normal = adata[adata.obs['cnv_status'] == 'normal_cnv_ref'].copy()"
      ],
      "metadata": {
        "id": "_VL6ogHNUFJz"
      },
      "id": "_VL6ogHNUFJz",
      "execution_count": null,
      "outputs": []
    },
    {
      "cell_type": "code",
      "source": [
        "# Re-cluster normal cells [cite: 34]\n",
        "print(\"Step 4.2: Re-clustering normal cells\")\n",
        "sc.tl.pca(adata_normal, svd_solver='arpack')\n",
        "sc.pp.neighbors(adata_normal, n_neighbors=10, n_pcs=min(30, adata_normal.n_obs-1)) # Adjust n_pcs if few cells\n",
        "sc.tl.umap(adata_normal)\n",
        "sc.tl.leiden(adata_normal, resolution=0.5, key_added='leiden_normal') # Adjust resolution as needed"
      ],
      "metadata": {
        "id": "xHVQBXnRUPMT"
      },
      "id": "xHVQBXnRUPMT",
      "execution_count": null,
      "outputs": []
    },
    {
      "cell_type": "code",
      "source": [
        "sc.pl.umap(adata_normal, color=['leiden_normal', 'cellassign_celltype_annotation'], title=['Leiden Clusters (Normal Subset)', 'Original Annotation (Normal Subset)'])"
      ],
      "metadata": {
        "id": "Ka-V8fZfUi3L"
      },
      "id": "Ka-V8fZfUi3L",
      "execution_count": null,
      "outputs": []
    }
  ],
  "metadata": {
    "kernelspec": {
      "display_name": "Python 3",
      "name": "python3"
    },
    "language_info": {
      "codemirror_mode": {
        "name": "ipython",
        "version": 3
      },
      "file_extension": ".py",
      "mimetype": "text/x-python",
      "name": "python",
      "nbconvert_exporter": "python",
      "pygments_lexer": "ipython3",
      "version": "3.9.12"
    },
    "colab": {
      "provenance": [],
      "machine_shape": "hm",
      "include_colab_link": true
    }
  },
  "nbformat": 4,
  "nbformat_minor": 5
}